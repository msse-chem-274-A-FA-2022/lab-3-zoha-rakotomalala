{
 "cells": [
  {
   "cell_type": "markdown",
   "metadata": {},
   "source": [
    "# Exploring Quantum Mechanics Tools\n",
    "\n",
    "## Definitions\n",
    "**QM Calculations**: the idea is to solve the Schrödinger equation for a molecular system. There aren't bonds but rather, a system of atoms and their respective locations (coordinates) in space. We consider two atoms to be bonded based on energy and the distance between them.\n",
    "\n",
    "**Geometry Optimization**: the process of changing a system's geometry (the atomic coordinates and arrangement in space) to minimize the total energy."
   ]
  },
  {
   "cell_type": "markdown",
   "metadata": {},
   "source": [
    "## Geometry Optimization\n",
    "\n",
    "### Imports"
   ]
  },
  {
   "cell_type": "code",
   "execution_count": null,
   "metadata": {},
   "outputs": [],
   "source": [
    "# import the python modules that we will use\n",
    "import psi4\n",
    "import numpy as np\n",
    "%matplotlib inline\n",
    "import matplotlib.pyplot as plt"
   ]
  },
  {
   "cell_type": "markdown",
   "metadata": {},
   "source": [
    "### Setting up the molecule\n",
    "The first code block will set up our molecule as an object in Psi4 using the function `psi4.geometry()`. You will need to add in the charge, multiplicity, and coordinates of your molecule in order for Psi4 to know what all of the atoms are and where they are in relation to each other. Once we have the molecule built, we can use Psi4 to calculate different attributes of the molecule using the basis set that we specify. In this case we will use the Hartree-Fock method (SCF) and the cc-pVDZ basis set. We will calculate the energy of the molecule and print it to a file called 'energy_initial', since this is the initial structure of our molecule. It turns out that this command gives us more than just the molecule's energy.\n",
    "\n",
    "We can also print the positions of all the atoms at any time using `molecule.print_out_in_angstrom()` and all of the interatomic distances using `molecule.print_distances()`. We will print these to a file called 'geometry_initial' as an example of Psi4's functionality (but we don't really need this information right now)."
   ]
  },
  {
   "cell_type": "code",
   "execution_count": null,
   "metadata": {},
   "outputs": [],
   "source": [
    "# set the amount of memory that you will need\n",
    "psi4.set_memory('2 GB')\n",
    "\n",
    "# set the number of threads (processes) for Psi4 to use\n",
    "# (~all modern computers can handle 2 threads)\n",
    "psi4.set_num_threads(2)\n",
    "\n",
    "# set the molecule name for your files and plots\n",
    "molecule_name = \"benzene\"\n",
    "\n",
    "# enter the charge, multiplicity, and starting coordinates of the atoms in your molecule\n",
    "benzene = psi4.geometry(\"\"\"\n",
    "0 1\n",
    "   C       -3.98116        3.81771        0.00000\n",
    "   C       -2.63351        3.75967        0.10838\n",
    "   C       -2.11978        2.80187       -0.29323\n",
    "   C       -2.68901        1.83558       -0.80805\n",
    "   C       -3.92704        1.83138       -0.93484\n",
    "   C       -4.58021        2.71451       -0.58263\n",
    "   H       -4.52562        4.63006        0.32966\n",
    "   H       -2.09025        4.53029        0.52795\n",
    "   H       -1.09209        2.75239       -0.21305\n",
    "   H       -2.13621        1.02769       -1.13476\n",
    "   H       -4.38300        1.01321       -1.36811\n",
    "   H       -5.60487        2.68217       -0.70124\n",
    "\"\"\")\n",
    "\n",
    "# Set the name of the output file for the initial energy calculation\n",
    "# Calculate the initial energy of the molecule using the Hartree-Fock method\n",
    "# and the cc-pVDZ basis set and print the output to a file\n",
    "psi4.set_output_file(F'{molecule_name}_energy_initial.dat', False)\n",
    "psi4.energy('scf/cc-pVDZ')\n",
    "\n",
    "# Set the name of the output file to write the geometry information\n",
    "# Print atomic coordinates and interatomic distances to this file\n",
    "psi4.set_output_file(F'{molecule_name}_geometry_initial.dat', False)\n",
    "benzene.print_out_in_angstrom()\n",
    "benzene.print_distances()"
   ]
  },
  {
   "cell_type": "markdown",
   "metadata": {},
   "source": [
    "### Optimization\n",
    "Now that we have the molecule setup, we will perform the geometry optimization. The `psi4.optimize()` function performs the optimization, and we need to tell it what method (SCF) and basis set (cc-pVDZ) to use and what molecule to optimize. As the optimization runs, information will be printed to the 'geometry_optimization' file at each step.\n",
    "\n",
    "**Note**: Although Psi4's default settings should work fine for most reasonable starting geometries, you may need to modify the maximum number of SCF iterations and/or the maximum number of geometry optimization iterations. To modify the maximum number of SCF interations (e.g., to 500), we can do so with `psi4.set_module_options('scf', {'maxiter': 500})`. Similarly, to modify the maximum number of geometry optimization iterations (e.g., to 100), we can do so with `psi4.set_options({'geom_maxiter': 100})`.\n",
    "\n",
    "After the optimization is complete, we print the atomic coordinates and interatomic distances again, to the 'geometry_final' file."
   ]
  },
  {
   "cell_type": "code",
   "execution_count": null,
   "metadata": {},
   "outputs": [],
   "source": [
    "# optimize the molecular geometry\n",
    "psi4.set_output_file(molecule_name + '_geometry_optimization.dat', False)\n",
    "psi4.optimize('scf/cc-pVDZ', molecule=benzene)\n",
    "\n",
    "# print the optimized atomic coordinates and interatomic distances\n",
    "psi4.set_output_file(molecule_name + '_geometry_final.dat', False)\n",
    "benzene.print_out_in_angstrom()\n",
    "benzene.print_distances()"
   ]
  },
  {
   "cell_type": "markdown",
   "metadata": {},
   "source": [
    "### Reading bond distances from the geometry optimization file\n",
    "Below is a function that will pull out the bond distances for any two atoms in the molecule from the geometry optimization output file. This way you can look at how the bond distances change during the optimization process. I won't explain how the function works here, but you can see the information in the 'geometry_optimization' file in the lines that begin with **R(a,b)**, where a and b are the numbers for the two atoms that form a bond."
   ]
  },
  {
   "cell_type": "code",
   "execution_count": null,
   "metadata": {},
   "outputs": [],
   "source": [
    "# function to find the bond distance for two specific atoms in the optimization file\n",
    "def plot_R(a, b):\n",
    "    with open(molecule_name + '_geometry_optimization.dat') as f:\n",
    "        pair_notation = 'R(' + str(a) + ',' + str(b) + ')'\n",
    "        rows_with_R_pairs = [line.split() for line in f if line.find(pair_notation) > 1 and \n",
    "                             line.strip().split()[1].startswith(pair_notation)]\n",
    "        bond_distances = []\n",
    "        bond_distances.append(float(rows_with_R_pairs[0][3]))\n",
    "        for item in rows_with_R_pairs:\n",
    "            bond_distances.append(float(item[6]))\n",
    "        return bond_distances"
   ]
  },
  {
   "cell_type": "markdown",
   "metadata": {},
   "source": [
    "### Plotting how bond distances change during optimization\n",
    "Using the function above, we will find the bond distances between two atoms at each step of the optimization and store them in the list `bond_distances`. We also need to find what the largest and smallest values of the bond distance are during optimization so that we know what range to use for plotting on the y-axis.\n",
    "\n",
    "Then, we will plot how that distance changes at each step of the optimization process. You should see it change from the initial value and then level out to the optimal bond distance based on the Hartree-Fock method and the cc-pVDZ basis set."
   ]
  },
  {
   "cell_type": "code",
   "execution_count": null,
   "metadata": {},
   "outputs": [],
   "source": [
    "# find the bond distance for atoms C1 and C2\n",
    "bond_distances = plot_R(1, 2)\n",
    "# determine an appropriate range for plotting\n",
    "dist_range = max(bond_distances) - min(bond_distances) # check out np.ptp(), too!\n",
    "\n",
    "# plot the bond distances at each iteration of geometry optimization\n",
    "plt.scatter(np.arange(len(bond_distances)), bond_distances)\n",
    "plt.ylim(top = max(bond_distances) + dist_range*0.15, \n",
    "         bottom = min(bond_distances) - dist_range*0.15)\n",
    "plt.xlabel(\"iteration\")\n",
    "plt.ylabel(\"distance (Angstroms)\")\n",
    "plt.title(molecule_name + \" C-C bond distance\")\n",
    "plt.show()"
   ]
  },
  {
   "cell_type": "markdown",
   "metadata": {},
   "source": [
    "### Reading energies from the geometry optimization file\n",
    "Below is a function that will extract the molecular energies from the geometry optimization output file. This way you can look at how the energy changes during the optimization process. In the 'geometry_optimization' file you can find this information on lines that begin with **Current energy**."
   ]
  },
  {
   "cell_type": "code",
   "execution_count": null,
   "metadata": {},
   "outputs": [],
   "source": [
    "# function to find the energy in the optimization file\n",
    "def plot_energy():\n",
    "    with open(molecule_name + '_geometry_optimization.dat') as f:\n",
    "        #energy_string = 'Current energy'\n",
    "        energy_values = [ float(line.split()[3]) for line in f if line.strip().startswith('Current energy') ]\n",
    "        return energy_values"
   ]
  },
  {
   "cell_type": "markdown",
   "metadata": {},
   "source": [
    "### Plotting how energy changes during optimization\n",
    "Using the function above, we will find the molecule's energy at each step of the optimization and store them in the list energy_values.\n",
    "\n",
    "Then, we will plot how the energy changes at each step of the optimization process. In this example, we will also save our plot as a PNG file called `benzene_energy.png`. What trend do you expect to see? Why?"
   ]
  },
  {
   "cell_type": "code",
   "execution_count": null,
   "metadata": {},
   "outputs": [],
   "source": [
    "# find the energies from this optimization file\n",
    "energy_values = plot_energy()\n",
    "# determine an appropriate range for plotting\n",
    "energy_range = max(energy_values) - min(energy_values)\n",
    "\n",
    "# plot the energies at each iteration\n",
    "plt.scatter(np.arange(len(energy_values)), energy_values)\n",
    "plt.ylim(top = max(energy_values) + energy_range*0.15, \n",
    "         bottom = min(energy_values) - energy_range*0.15)\n",
    "plt.xlabel(\"iteration\")\n",
    "plt.ylabel(\"energy (Hartrees)\")\n",
    "plt.title(molecule_name + \" energy\")\n",
    "plt.show()\n",
    "plt.savefig(F'benzene_energy.png')"
   ]
  },
  {
   "cell_type": "markdown",
   "metadata": {},
   "source": [
    "**Response**:"
   ]
  },
  {
   "cell_type": "markdown",
   "metadata": {},
   "source": [
    "### Exercise: Nitrobenzene\n",
    "Using the commands you learned above, perform a geometry optimization for nitrobenzene. Plot the distance between the C-N bond as a function of iteration. Plot the energy of the molecule as a function of iteration. We will provide the coordinates for nitrobenzene below."
   ]
  },
  {
   "cell_type": "code",
   "execution_count": null,
   "metadata": {},
   "outputs": [],
   "source": [
    "# set the amount of memory that you will need\n",
    "psi4.set_memory('2 GB')\n",
    "psi4.set_num_threads(2)\n",
    "\n",
    "# set the molecule name for your files and plots\n",
    "molecule_name = \"???\" # change this!\n",
    "\n",
    "# enter the charge, multiplicity, and starting coordinates of the atoms in your molecule\n",
    "nitrobenzene = psi4.geometry(\"\"\"\n",
    "0 1\n",
    "    C           -0.095064772343     0.146295623041     0.059537205186\n",
    "    C            1.283018363291     0.142649668478     0.196784140588\n",
    "    C            1.990331050963    -0.960422939516    -0.254006621934\n",
    "    C            1.318416263743    -2.031528686933    -0.828747057589\n",
    "    C           -0.064188925162    -2.007366882283    -0.956737400211\n",
    "    C           -0.784558755686    -0.910752841459    -0.510319723340\n",
    "    N           -0.848855091435     1.308105436534     0.533445635977\n",
    "    O           -0.233820735922     2.201021978360     1.018562061794\n",
    "    O           -2.029554627386     1.286506572614     0.404620639986\n",
    "    H            1.779858487179     0.986578029758     0.646345969034\n",
    "    H            3.066459468369    -0.982350238052    -0.155873129710\n",
    "    H            1.875676025875    -2.889960105077    -1.178879784359\n",
    "    H           -0.584173157007    -2.842448011438    -1.404447615844\n",
    "    H           -1.857675444135    -0.866918749314    -0.597782154057\n",
    "\"\"\")\n",
    "\n",
    "# calculate the initial energy of the molecule using the Hartree-Fock method\n",
    "# and the cc-pVDZ basis set; print this output to a file\n",
    "\"your code here\"\n",
    "\n",
    "# print atomic coordinates and interatomic distances to a file\n",
    "\"your code here\""
   ]
  },
  {
   "cell_type": "markdown",
   "metadata": {},
   "source": [
    "In the geometry optimization block, you may need to change the change the maximum number of SCF iterations using `psi4.set_module_options('scf', {'maxiter': 500})` or the maximum number of geometry iterations using `psi4.set_options({'geom_maxiter': 100})`. You also need to be sure to change your molecule name in the `psi4.optimize()` command.\n",
    "\n",
    "Once the optimization is complete, you do not need to change anything in the definition of the `plot_R` function, but be sure you execute this code block before you try to use it in the next section!\n",
    "\n",
    "When you use the `plot_R` function, make sure you correctly specify the atoms you want to measure the distance between. For the set of coordinates given above, this is **atom 1** and **atom 7**. Be sure to use an appropriate title and axis labels in your plot."
   ]
  },
  {
   "cell_type": "code",
   "execution_count": null,
   "metadata": {},
   "outputs": [],
   "source": [
    "# find the bond distance for atoms C1 and N\n",
    "\"your code here\"\n",
    "\n",
    "# determine an appropriate range for plotting\n",
    "\"your code here\"\n",
    "\n",
    "# plot the bond distances at each iteration of geometry optimization\n",
    "\"your code here\""
   ]
  }
 ],
 "metadata": {
  "kernelspec": {
   "display_name": "Python 3.8.9 64-bit",
   "language": "python",
   "name": "python3"
  },
  "language_info": {
   "name": "python",
   "version": "3.8.9"
  },
  "orig_nbformat": 4,
  "vscode": {
   "interpreter": {
    "hash": "31f2aee4e71d21fbe5cf8b01ff0e069b9275f58929596ceb00d14d90e3e16cd6"
   }
  }
 },
 "nbformat": 4,
 "nbformat_minor": 2
}
